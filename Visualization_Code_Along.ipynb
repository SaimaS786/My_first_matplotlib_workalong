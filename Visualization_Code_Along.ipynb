{
 "cells": [
  {
   "cell_type": "markdown",
   "metadata": {},
   "source": [
    "# Indian Election Analysis\n",
    "\n",
    "India's lower house of Parliament,the Lok Sabha, has 543 seats in total.Members of Lok Sabha (House of the People) or the lower house of India's Parliament are elected by being voted upon by all adult citizens of India, from a set of candidates who stand in their respective constituencies. Every adult citizen of India can vote only in their constituency. Candidates who win the Lok Sabha elections are called 'Member of Parliament' and hold their seats for five years or until the body is dissolved by the President on the advice of the council of ministers.\n",
    "\n",
    "There are more than 700 million voters with more than 800,000 polling stations.\n",
    "\n",
    "The Lok Sabha election is a very complex affair as it involves a lot of factors. It is this very fact that makes it a perfect topic to analyze.\n",
    "\n",
    "Currently there are two major parties in India, Bhartiya Janta Party(BJP) and Indian National Congress(INC).\n",
    "\n",
    "As India is country of diversities, and each region is very different from every other region, there are a lot of regional or state parties having major influences. These parties can either support any of the alliance to make a government or can stay independent.\n",
    "\n",
    "There are two major alliances, the NDA led by BJP and the UPA led by INC.\n",
    "\n",
    "## About the data set\n",
    "\n",
    "### There are two datasets:\n",
    "\n",
    "#### 1. 2009 Candidate dataset:\n",
    "\n",
    "The candidate dataset has 15 features namely  'ST_CODE', 'State_name', 'Month', 'Year', 'PC_Number', 'PC_name', 'PC_Type', 'Candidate_Name', 'Candidate_Sex', 'Candidate_Category', 'Candidate_Age', 'Party_Abbreviation', 'Total_Votes_Polled', 'Position','Alliance'.\n",
    "\n",
    "#### 2. 2009 Electors dataset\n",
    "\n",
    "The elector dataset consist of 8 features namely 'STATE CODE', 'STATE', 'PC NO', 'PARLIAMENTARY CONSTITUENCY','Total voters', 'Total_Electors', 'TOT_CONTESTANT', 'POLL PERCENTAGE'."
   ]
  },
  {
   "cell_type": "markdown",
   "metadata": {},
   "source": [
    "## Loading necessary Libraries and dataset"
   ]
  },
  {
   "cell_type": "code",
   "execution_count": 4,
   "metadata": {},
   "outputs": [],
   "source": [
    "import pandas as pd\n",
    "import numpy as np\n",
    "import matplotlib.pyplot as plt\n",
    "import warnings\n",
    "warnings.filterwarnings(\"ignore\")\n",
    "\n",
    "#electors_2009 = pd.read_csv(\"../data/LS2009Electors.csv\")\n",
    "electors_2009 = pd.read_csv(\"C:/Users/Sayyed/Desktop/Bhavesh/My trial/8th March/MATPLOT/delete_soon-master/LS2009Electors.csv\")\n",
    "#candidate_2009 = pd.read_csv(\"../data/candidate09.csv\")\n",
    "candidate_2009 = pd.read_csv(\"C:/Users/Sayyed/Desktop/Bhavesh/My trial/8th March/MATPLOT/delete_soon-master/candidate09.csv\")"
   ]
  },
  {
   "cell_type": "markdown",
   "metadata": {},
   "source": [
    "## Task 1 : Plot a bar chart to compare the number of male and female candidates in the election"
   ]
  },
  {
   "cell_type": "code",
   "execution_count": 5,
   "metadata": {},
   "outputs": [
    {
     "data": {
      "text/html": [
       "<div>\n",
       "<style scoped>\n",
       "    .dataframe tbody tr th:only-of-type {\n",
       "        vertical-align: middle;\n",
       "    }\n",
       "\n",
       "    .dataframe tbody tr th {\n",
       "        vertical-align: top;\n",
       "    }\n",
       "\n",
       "    .dataframe thead th {\n",
       "        text-align: right;\n",
       "    }\n",
       "</style>\n",
       "<table border=\"1\" class=\"dataframe\">\n",
       "  <thead>\n",
       "    <tr style=\"text-align: right;\">\n",
       "      <th></th>\n",
       "      <th>STATE CODE</th>\n",
       "      <th>STATE</th>\n",
       "      <th>PC NO</th>\n",
       "      <th>PARLIAMENTARY CONSTITUENCY</th>\n",
       "      <th>Total voters</th>\n",
       "      <th>Total_Electors</th>\n",
       "      <th>TOT_CONTESTANT</th>\n",
       "      <th>POLL PERCENTAGE</th>\n",
       "    </tr>\n",
       "  </thead>\n",
       "  <tbody>\n",
       "    <tr>\n",
       "      <th>0</th>\n",
       "      <td>S01</td>\n",
       "      <td>Andhra Pradesh</td>\n",
       "      <td>1</td>\n",
       "      <td>Adilabad</td>\n",
       "      <td>864165</td>\n",
       "      <td>1131211</td>\n",
       "      <td>9</td>\n",
       "      <td>76.39</td>\n",
       "    </tr>\n",
       "    <tr>\n",
       "      <th>1</th>\n",
       "      <td>S01</td>\n",
       "      <td>Andhra Pradesh</td>\n",
       "      <td>2</td>\n",
       "      <td>Peddapalle</td>\n",
       "      <td>905332</td>\n",
       "      <td>1315642</td>\n",
       "      <td>15</td>\n",
       "      <td>68.81</td>\n",
       "    </tr>\n",
       "    <tr>\n",
       "      <th>2</th>\n",
       "      <td>S01</td>\n",
       "      <td>Andhra Pradesh</td>\n",
       "      <td>3</td>\n",
       "      <td>Karimnagar</td>\n",
       "      <td>990646</td>\n",
       "      <td>1496211</td>\n",
       "      <td>15</td>\n",
       "      <td>66.21</td>\n",
       "    </tr>\n",
       "    <tr>\n",
       "      <th>3</th>\n",
       "      <td>S01</td>\n",
       "      <td>Andhra Pradesh</td>\n",
       "      <td>4</td>\n",
       "      <td>Nizamabad</td>\n",
       "      <td>891508</td>\n",
       "      <td>1333271</td>\n",
       "      <td>12</td>\n",
       "      <td>66.87</td>\n",
       "    </tr>\n",
       "    <tr>\n",
       "      <th>4</th>\n",
       "      <td>S01</td>\n",
       "      <td>Andhra Pradesh</td>\n",
       "      <td>5</td>\n",
       "      <td>Zahirabad</td>\n",
       "      <td>1017372</td>\n",
       "      <td>1359566</td>\n",
       "      <td>10</td>\n",
       "      <td>74.83</td>\n",
       "    </tr>\n",
       "  </tbody>\n",
       "</table>\n",
       "</div>"
      ],
      "text/plain": [
       "  STATE CODE           STATE  PC NO PARLIAMENTARY CONSTITUENCY  Total voters  \\\n",
       "0        S01  Andhra Pradesh      1                   Adilabad        864165   \n",
       "1        S01  Andhra Pradesh      2                 Peddapalle        905332   \n",
       "2        S01  Andhra Pradesh      3                 Karimnagar        990646   \n",
       "3        S01  Andhra Pradesh      4                  Nizamabad        891508   \n",
       "4        S01  Andhra Pradesh      5                  Zahirabad       1017372   \n",
       "\n",
       "   Total_Electors  TOT_CONTESTANT  POLL PERCENTAGE  \n",
       "0         1131211               9            76.39  \n",
       "1         1315642              15            68.81  \n",
       "2         1496211              15            66.21  \n",
       "3         1333271              12            66.87  \n",
       "4         1359566              10            74.83  "
      ]
     },
     "execution_count": 5,
     "metadata": {},
     "output_type": "execute_result"
    }
   ],
   "source": [
    "electors_2009.head()"
   ]
  },
  {
   "cell_type": "code",
   "execution_count": 6,
   "metadata": {},
   "outputs": [
    {
     "data": {
      "text/html": [
       "<div>\n",
       "<style scoped>\n",
       "    .dataframe tbody tr th:only-of-type {\n",
       "        vertical-align: middle;\n",
       "    }\n",
       "\n",
       "    .dataframe tbody tr th {\n",
       "        vertical-align: top;\n",
       "    }\n",
       "\n",
       "    .dataframe thead th {\n",
       "        text-align: right;\n",
       "    }\n",
       "</style>\n",
       "<table border=\"1\" class=\"dataframe\">\n",
       "  <thead>\n",
       "    <tr style=\"text-align: right;\">\n",
       "      <th></th>\n",
       "      <th>ST_CODE</th>\n",
       "      <th>State_name</th>\n",
       "      <th>Month</th>\n",
       "      <th>Year</th>\n",
       "      <th>PC_Number</th>\n",
       "      <th>PC_name</th>\n",
       "      <th>PC_Type</th>\n",
       "      <th>Candidate_Name</th>\n",
       "      <th>Candidate_Sex</th>\n",
       "      <th>Candidate_Category</th>\n",
       "      <th>Candidate_Age</th>\n",
       "      <th>Party_Abbreviation</th>\n",
       "      <th>Total_Votes_Polled</th>\n",
       "      <th>Position</th>\n",
       "      <th>Alliance</th>\n",
       "    </tr>\n",
       "  </thead>\n",
       "  <tbody>\n",
       "    <tr>\n",
       "      <th>0</th>\n",
       "      <td>S01</td>\n",
       "      <td>Andhra Pradesh</td>\n",
       "      <td>3</td>\n",
       "      <td>2009</td>\n",
       "      <td>1</td>\n",
       "      <td>Adilabad</td>\n",
       "      <td>ST</td>\n",
       "      <td>RATHOD RAMESH</td>\n",
       "      <td>M</td>\n",
       "      <td>ST</td>\n",
       "      <td>43.0</td>\n",
       "      <td>TDP</td>\n",
       "      <td>372268.0</td>\n",
       "      <td>1.0</td>\n",
       "      <td>TDP</td>\n",
       "    </tr>\n",
       "    <tr>\n",
       "      <th>1</th>\n",
       "      <td>S01</td>\n",
       "      <td>Andhra Pradesh</td>\n",
       "      <td>3</td>\n",
       "      <td>2009</td>\n",
       "      <td>1</td>\n",
       "      <td>Adilabad</td>\n",
       "      <td>ST</td>\n",
       "      <td>KOTNAK RAMESH</td>\n",
       "      <td>M</td>\n",
       "      <td>ST</td>\n",
       "      <td>39.0</td>\n",
       "      <td>INC</td>\n",
       "      <td>257181.0</td>\n",
       "      <td>2.0</td>\n",
       "      <td>UPA</td>\n",
       "    </tr>\n",
       "    <tr>\n",
       "      <th>2</th>\n",
       "      <td>S01</td>\n",
       "      <td>Andhra Pradesh</td>\n",
       "      <td>3</td>\n",
       "      <td>2009</td>\n",
       "      <td>1</td>\n",
       "      <td>Adilabad</td>\n",
       "      <td>ST</td>\n",
       "      <td>MESRAM NAGO RAO</td>\n",
       "      <td>M</td>\n",
       "      <td>ST</td>\n",
       "      <td>59.0</td>\n",
       "      <td>PRAP</td>\n",
       "      <td>112930.0</td>\n",
       "      <td>3.0</td>\n",
       "      <td>PRAP</td>\n",
       "    </tr>\n",
       "    <tr>\n",
       "      <th>3</th>\n",
       "      <td>S01</td>\n",
       "      <td>Andhra Pradesh</td>\n",
       "      <td>3</td>\n",
       "      <td>2009</td>\n",
       "      <td>1</td>\n",
       "      <td>Adilabad</td>\n",
       "      <td>ST</td>\n",
       "      <td>ADE TUKARAM</td>\n",
       "      <td>M</td>\n",
       "      <td>ST</td>\n",
       "      <td>55.0</td>\n",
       "      <td>BJP</td>\n",
       "      <td>57931.0</td>\n",
       "      <td>4.0</td>\n",
       "      <td>NDA</td>\n",
       "    </tr>\n",
       "    <tr>\n",
       "      <th>4</th>\n",
       "      <td>S01</td>\n",
       "      <td>Andhra Pradesh</td>\n",
       "      <td>3</td>\n",
       "      <td>2009</td>\n",
       "      <td>1</td>\n",
       "      <td>Adilabad</td>\n",
       "      <td>ST</td>\n",
       "      <td>RATHOD SADASHIV NAIK</td>\n",
       "      <td>M</td>\n",
       "      <td>ST</td>\n",
       "      <td>50.0</td>\n",
       "      <td>BSP</td>\n",
       "      <td>16471.0</td>\n",
       "      <td>5.0</td>\n",
       "      <td>BSP</td>\n",
       "    </tr>\n",
       "  </tbody>\n",
       "</table>\n",
       "</div>"
      ],
      "text/plain": [
       "  ST_CODE      State_name  Month  Year  PC_Number   PC_name PC_Type  \\\n",
       "0     S01  Andhra Pradesh      3  2009          1  Adilabad      ST   \n",
       "1     S01  Andhra Pradesh      3  2009          1  Adilabad      ST   \n",
       "2     S01  Andhra Pradesh      3  2009          1  Adilabad      ST   \n",
       "3     S01  Andhra Pradesh      3  2009          1  Adilabad      ST   \n",
       "4     S01  Andhra Pradesh      3  2009          1  Adilabad      ST   \n",
       "\n",
       "         Candidate_Name Candidate_Sex Candidate_Category  Candidate_Age  \\\n",
       "0         RATHOD RAMESH             M                 ST           43.0   \n",
       "1         KOTNAK RAMESH             M                 ST           39.0   \n",
       "2       MESRAM NAGO RAO             M                 ST           59.0   \n",
       "3           ADE TUKARAM             M                 ST           55.0   \n",
       "4  RATHOD SADASHIV NAIK             M                 ST           50.0   \n",
       "\n",
       "  Party_Abbreviation  Total_Votes_Polled  Position Alliance  \n",
       "0                TDP            372268.0       1.0      TDP  \n",
       "1                INC            257181.0       2.0      UPA  \n",
       "2               PRAP            112930.0       3.0     PRAP  \n",
       "3                BJP             57931.0       4.0      NDA  \n",
       "4                BSP             16471.0       5.0      BSP  "
      ]
     },
     "execution_count": 6,
     "metadata": {},
     "output_type": "execute_result"
    }
   ],
   "source": [
    "candidate_2009.head()"
   ]
  },
  {
   "cell_type": "code",
   "execution_count": 7,
   "metadata": {
    "scrolled": true
   },
   "outputs": [
    {
     "data": {
      "image/png": "[encoded data removed]",
      "text/plain": [
       "<Figure size 432x288 with 1 Axes>"
      ]
     },
     "metadata": {},
     "output_type": "display_data"
    }
   ],
   "source": [
    "# Pie chart, where the slices will be ordered and plotted counter-clockwise:\n",
    "#labels = 'Frogs', 'Hogs', 'Dogs', 'Logs'\n",
    "#sizes = [15, 30, 45, 10]\n",
    "labels = candidate_2009.Candidate_Sex\n",
    "\n",
    "explode = (0, 0.1, 0, 0)  # only \"explode\" the 2nd slice (i.e. 'Hogs')\n",
    "\n",
    "fig1, ax1 = plt.subplots()\n",
    "ax1.pie(sizes, explode=explode, labels=labels, autopct='%1.1f%%', shadow=True, startangle=90)\n",
    "ax1.axis('equal')  # Equal aspect ratio ensures that pie is drawn as a circle.\n",
    "plt.show()"
   ]
  },
  {
   "cell_type": "code",
   "execution_count": null,
   "metadata": {},
   "outputs": [],
   "source": []
  },
  {
   "cell_type": "code",
   "execution_count": null,
   "metadata": {},
   "outputs": [],
   "source": []
  },
  {
   "cell_type": "code",
   "execution_count": null,
   "metadata": {},
   "outputs": [],
   "source": []
  },
  {
   "cell_type": "code",
   "execution_count": null,
   "metadata": {},
   "outputs": [],
   "source": []
  },
  {
   "cell_type": "code",
   "execution_count": 17,
   "metadata": {},
   "outputs": [
    {
     "data": {
      "text/html": [
       "<div>\n",
       "<style scoped>\n",
       "    .dataframe tbody tr th:only-of-type {\n",
       "        vertical-align: middle;\n",
       "    }\n",
       "\n",
       "    .dataframe tbody tr th {\n",
       "        vertical-align: top;\n",
       "    }\n",
       "\n",
       "    .dataframe thead th {\n",
       "        text-align: right;\n",
       "    }\n",
       "</style>\n",
       "<table border=\"1\" class=\"dataframe\">\n",
       "  <thead>\n",
       "    <tr style=\"text-align: right;\">\n",
       "      <th></th>\n",
       "      <th>ST_CODE</th>\n",
       "      <th>State_name</th>\n",
       "      <th>Month</th>\n",
       "      <th>Year</th>\n",
       "      <th>PC_Number</th>\n",
       "      <th>PC_name</th>\n",
       "      <th>PC_Type</th>\n",
       "      <th>Candidate_Name</th>\n",
       "      <th>Candidate_Category</th>\n",
       "      <th>Candidate_Age</th>\n",
       "      <th>Party_Abbreviation</th>\n",
       "      <th>Total_Votes_Polled</th>\n",
       "      <th>Position</th>\n",
       "      <th>Alliance</th>\n",
       "    </tr>\n",
       "    <tr>\n",
       "      <th>Candidate_Sex</th>\n",
       "      <th></th>\n",
       "      <th></th>\n",
       "      <th></th>\n",
       "      <th></th>\n",
       "      <th></th>\n",
       "      <th></th>\n",
       "      <th></th>\n",
       "      <th></th>\n",
       "      <th></th>\n",
       "      <th></th>\n",
       "      <th></th>\n",
       "      <th></th>\n",
       "      <th></th>\n",
       "      <th></th>\n",
       "    </tr>\n",
       "  </thead>\n",
       "  <tbody>\n",
       "    <tr>\n",
       "      <th>F</th>\n",
       "      <td>552</td>\n",
       "      <td>552</td>\n",
       "      <td>552</td>\n",
       "      <td>552</td>\n",
       "      <td>552</td>\n",
       "      <td>552</td>\n",
       "      <td>552</td>\n",
       "      <td>552</td>\n",
       "      <td>552</td>\n",
       "      <td>552</td>\n",
       "      <td>552</td>\n",
       "      <td>552</td>\n",
       "      <td>552</td>\n",
       "      <td>552</td>\n",
       "    </tr>\n",
       "    <tr>\n",
       "      <th>M</th>\n",
       "      <td>7518</td>\n",
       "      <td>7518</td>\n",
       "      <td>7518</td>\n",
       "      <td>7518</td>\n",
       "      <td>7518</td>\n",
       "      <td>7518</td>\n",
       "      <td>7518</td>\n",
       "      <td>7518</td>\n",
       "      <td>7518</td>\n",
       "      <td>7518</td>\n",
       "      <td>7518</td>\n",
       "      <td>7518</td>\n",
       "      <td>7518</td>\n",
       "      <td>7518</td>\n",
       "    </tr>\n",
       "  </tbody>\n",
       "</table>\n",
       "</div>"
      ],
      "text/plain": [
       "               ST_CODE  State_name  Month  Year  PC_Number  PC_name  PC_Type  \\\n",
       "Candidate_Sex                                                                  \n",
       "F                  552         552    552   552        552      552      552   \n",
       "M                 7518        7518   7518  7518       7518     7518     7518   \n",
       "\n",
       "               Candidate_Name  Candidate_Category  Candidate_Age  \\\n",
       "Candidate_Sex                                                      \n",
       "F                         552                 552            552   \n",
       "M                        7518                7518           7518   \n",
       "\n",
       "               Party_Abbreviation  Total_Votes_Polled  Position  Alliance  \n",
       "Candidate_Sex                                                              \n",
       "F                             552                 552       552       552  \n",
       "M                            7518                7518      7518      7518  "
      ]
     },
     "execution_count": 17,
     "metadata": {},
     "output_type": "execute_result"
    }
   ],
   "source": [
    "sums = candidate_2009.groupby(candidate_2009[\"Candidate_Sex\"]).count()\n",
    "sums"
   ]
  },
  {
   "cell_type": "code",
   "execution_count": 15,
   "metadata": {},
   "outputs": [
    {
     "data": {
      "text/plain": [
       "M    7518\n",
       "F     552\n",
       "Name: Candidate_Sex, dtype: int64"
      ]
     },
     "execution_count": 15,
     "metadata": {},
     "output_type": "execute_result"
    }
   ],
   "source": [
    "totals = candidate_2009.Candidate_Sex.value_counts()\n",
    "totals"
   ]
  },
  {
   "cell_type": "code",
   "execution_count": 24,
   "metadata": {},
   "outputs": [
    {
     "name": "stdout",
     "output_type": "stream",
     "text": [
      "112770\n",
      "8280\n"
     ]
    }
   ],
   "source": [
    "males = candidate_2009[candidate_2009['Candidate_Sex'] == 'M'].count().sum()\n",
    "print(males)\n",
    "females = candidate_2009[candidate_2009['Candidate_Sex'] == 'F'].count().sum()\n",
    "print(females)"
   ]
  },
  {
   "cell_type": "code",
   "execution_count": 26,
   "metadata": {},
   "outputs": [
    {
     "data": {
      "image/png": "[encoded data removed]",
      "text/plain": [
       "<Figure size 432x288 with 1 Axes>"
      ]
     },
     "metadata": {
      "needs_background": "light"
     },
     "output_type": "display_data"
    }
   ],
   "source": [
    "%matplotlib inline\n",
    "\n",
    "#df = pd.read_csv ('chart_work.csv')\n",
    "\n",
    "#sums = candidate_2009.groupby(candidate_2009[\"Candidate_Sex\"]).sum() #[\"Number Of Bugs\"].sum()\n",
    "#axis('equal');\n",
    "label = ['males', 'females']\n",
    "index = np.arange(len(label))\n",
    "plt.bar(index, label)\n",
    "plt.show()\n",
    "#fig1, ax1 = plt.subplots()\n",
    "#ax1.pie(labels=totals, autopct='%1.1f%%', shadow=True, startangle=90);\n",
    "#plt.show()"
   ]
  },
  {
   "cell_type": "markdown",
   "metadata": {},
   "source": [
    "## Task 2 : Plot a histogram of the age of all the candidates as well as of the winner amongst them. Compare them and note an observation"
   ]
  },
  {
   "cell_type": "code",
   "execution_count": null,
   "metadata": {},
   "outputs": [],
   "source": []
  },
  {
   "cell_type": "markdown",
   "metadata": {},
   "source": [
    "## Task 3 : Plot a bar graph to get the vote shares of different parties"
   ]
  },
  {
   "cell_type": "code",
   "execution_count": null,
   "metadata": {},
   "outputs": [],
   "source": []
  },
  {
   "cell_type": "markdown",
   "metadata": {},
   "source": [
    "## Task 4 : Plot a barplot to compare the mean poll percentage of all the states"
   ]
  },
  {
   "cell_type": "code",
   "execution_count": null,
   "metadata": {},
   "outputs": [],
   "source": []
  },
  {
   "cell_type": "markdown",
   "metadata": {},
   "source": [
    "## Task 5 : Plot a bar plot to compare the seats won by different parties in Uttar Pradesh"
   ]
  },
  {
   "cell_type": "code",
   "execution_count": null,
   "metadata": {},
   "outputs": [],
   "source": []
  },
  {
   "cell_type": "markdown",
   "metadata": {},
   "source": [
    "## Task 6 : Plot a stacked bar chart to compare the number of seats won by different `Alliances` in Gujarat,Madhya Pradesh and Maharashtra. "
   ]
  },
  {
   "cell_type": "code",
   "execution_count": null,
   "metadata": {},
   "outputs": [],
   "source": []
  },
  {
   "cell_type": "markdown",
   "metadata": {},
   "source": [
    "## Task 7 : Plot a grouped bar chart to compare the number of winner candidates on the basis of their caste in the states of Andhra Pradesh, Kerala, Tamil Nadu and Karnataka"
   ]
  },
  {
   "cell_type": "code",
   "execution_count": null,
   "metadata": {},
   "outputs": [],
   "source": []
  },
  {
   "cell_type": "markdown",
   "metadata": {},
   "source": [
    "## Task 8 : Plot a horizontal bar graph of the Parliamentary constituency with total voters less than 100000"
   ]
  },
  {
   "cell_type": "code",
   "execution_count": null,
   "metadata": {},
   "outputs": [],
   "source": []
  },
  {
   "cell_type": "markdown",
   "metadata": {},
   "source": [
    "## Task 9: Plot a pie chart with the top 10 parties with majority seats in the elections"
   ]
  },
  {
   "cell_type": "code",
   "execution_count": null,
   "metadata": {},
   "outputs": [],
   "source": []
  },
  {
   "cell_type": "markdown",
   "metadata": {},
   "source": [
    "## Task 10 : Plot a pie diagram for top 9 states with most number of seats"
   ]
  },
  {
   "cell_type": "code",
   "execution_count": null,
   "metadata": {},
   "outputs": [],
   "source": []
  }
 ],
 "metadata": {
  "kernelspec": {
   "display_name": "Python 3",
   "language": "python",
   "name": "python3"
  }
 },
 "nbformat": 4,
 "nbformat_minor": 2
}
